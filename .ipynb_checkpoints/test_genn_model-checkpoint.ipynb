{
 "cells": [
  {
   "cell_type": "markdown",
   "id": "41c59913",
   "metadata": {},
   "source": [
    "# Construction of ML_GeNN model"
   ]
  },
  {
   "cell_type": "code",
   "execution_count": 8,
   "id": "6d107548",
   "metadata": {},
   "outputs": [],
   "source": [
    "import ml_genn as tg"
   ]
  },
  {
   "cell_type": "markdown",
   "id": "894d3f23",
   "metadata": {},
   "source": [
    "Types of neurons for SNN\n",
    "- Spike input neurons : tg.layers.SpikeInputNeurons()\n",
    "- Spike input neurons signed : tg.layers.SpikeInputNeurons(signed_spikes=True)\n",
    "- Poisson input neurons : tg.layers.PoissonInputNeurons()\n",
    "- Poisson input neurons signed : tg.layers.PoissonInputNeurons(signed_spikes=True)\n",
    "- IF input : tg.layers.IFInputNeurons()\n"
   ]
  },
  {
   "cell_type": "code",
   "execution_count": 19,
   "id": "ff6c428a",
   "metadata": {},
   "outputs": [],
   "source": [
    "IN1 = tg.layers.InputLayer(name='IN3', shape=(32,32,3), neurons=tg.layers.PoissonInputNeurons())\n",
    "C1 = tg.layers.Conv2D(name='C1', filters=64, conv_size=(3,3), neurons=tg.layers.if_neurons.IFNeurons())\n",
    "C1.connect([IN1])\n",
    "C2 = tg.layers.Conv2D(name='C2', filters=64, conv_size=(3,3), neurons=tg.layers.if_neurons.IFNeurons())\n",
    "C2.connect([C1])\n",
    "D1 = tg.layers.Dense(name='D1', units=10, neurons=tg.layers.if_neurons.IFNeurons())\n",
    "D1.connect([C2])"
   ]
  },
  {
   "cell_type": "code",
   "execution_count": null,
   "id": "9b424588",
   "metadata": {},
   "outputs": [],
   "source": []
  }
 ],
 "metadata": {
  "kernelspec": {
   "display_name": "Python 3 (ipykernel)",
   "language": "python",
   "name": "python3"
  },
  "language_info": {
   "codemirror_mode": {
    "name": "ipython",
    "version": 3
   },
   "file_extension": ".py",
   "mimetype": "text/x-python",
   "name": "python",
   "nbconvert_exporter": "python",
   "pygments_lexer": "ipython3",
   "version": "3.7.5"
  }
 },
 "nbformat": 4,
 "nbformat_minor": 5
}
